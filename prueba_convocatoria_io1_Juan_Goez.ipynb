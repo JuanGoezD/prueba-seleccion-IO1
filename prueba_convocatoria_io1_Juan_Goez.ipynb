{
  "cells": [
    {
      "cell_type": "markdown",
      "metadata": {},
      "source": [
        "<a target=\"_blank\" href=\"https://colab.research.google.com/github/JuanGoezD/prueba-seleccion-IO1\">\n",
        "  <img src=\"https://colab.research.google.com/assets/colab-badge.svg\" alt=\"Open In Colab\"/>\n",
        "</a>"
      ]
    },
    {
      "cell_type": "markdown",
      "metadata": {
        "id": "qX_b7zGXUrbX"
      },
      "source": [
        "# 3. Enunciado Problema\n",
        "Resolver el siguiente ejercicio en GoogleColab con la librería cvxpy utilizando al menos dos solvers diferentes y comparando las respuestas generadas por cada uno de ellos (el cálculo de las diferencias debe ser realizado de manera automática por el código).\n",
        "\n",
        "Minimizar 3*x + 8*y\n",
        "\n",
        "sujeto a:\n",
        "\n",
        "x + y >= 50\n",
        "\n",
        "x - y <= 20\n",
        "\n",
        "x >= 0\n",
        "\n",
        "y >= 0"
      ]
    },
    {
      "cell_type": "code",
      "execution_count": 4,
      "metadata": {
        "colab": {
          "base_uri": "https://localhost:8080/"
        },
        "id": "wns3eALQUlN8",
        "outputId": "d1eeac67-6bc4-4fe5-c8e4-2575b36b7d48"
      },
      "outputs": [
        {
          "name": "stdout",
          "output_type": "stream",
          "text": [
            "Los resultados de ambos solvers son: \n",
            "\n",
            "+----------+-------------------------+---------------------------------------+-------------------+---------------------+\n",
            "| Solver   | Estado de la solución   |   Valor óptimo de la función objetivo |    Valor óptimo x |   Valor óptimo de y |\n",
            "+==========+=========================+=======================================+===================+=====================+\n",
            "| OSQP     | optimal                 | 225.00000000000000                    | 35.00000000000000 | 15.00000000000000   |\n",
            "+----------+-------------------------+---------------------------------------+-------------------+---------------------+\n",
            "| SCS      | optimal                 | 225.00005534246503                    | 35.00001549417795 | 15.00000110749139   |\n",
            "+----------+-------------------------+---------------------------------------+-------------------+---------------------+\n",
            "\n",
            "Las diferencias absolutas entre los solvers son: \n",
            "+-----------------------------------+------------------+\n",
            "| Diferencia en el valor x          | 0.00001549417795 |\n",
            "+-----------------------------------+------------------+\n",
            "| Diferencia en el valor y          | 0.00000110749139 |\n",
            "+-----------------------------------+------------------+\n",
            "| Diferencia en la funcion objetivo | 0.00005534246503 |\n",
            "+-----------------------------------+------------------+\n"
          ]
        }
      ],
      "source": [
        "# Importar las librerías que se van a utilizar\n",
        "import cvxpy as cvx\n",
        "# El siguiente  módulo se va a usar para la impresión de resultados\n",
        "from tabulate import tabulate\n",
        "\n",
        "# Se crean las variables\n",
        "# Además se utiliza la restriccion de no negatividad de las variables\n",
        "x = cvx.Variable(nonneg = True)\n",
        "y = cvx.Variable(nonneg = True)\n",
        "\n",
        "# Se define la función objetivo\n",
        "func_obj = cvx.Minimize(3*x + 8*y)\n",
        "\n",
        "# Establecemos las restricciones\n",
        "restricciones = [\n",
        "x + y >= 50,\n",
        "x - y <= 20\n",
        "]\n",
        "\n",
        "# Configuro dos problemas, uno con el solver OSQP y otro con el solver SCS\n",
        "\n",
        "# Soluciones con el solver OSQP\n",
        "prob_OSQP = cvx.Problem(func_obj, restricciones)\n",
        "prob_OSQP.solve(solver=cvx.OSQP) # Soluciono el problema con OSQP\n",
        "valorx_OSQP = x.value # Valores optimos de x con OSQP\n",
        "valory_OSQP = y.value # Valores optimos de y con OSQP\n",
        "\n",
        "# Soluciones con el solver SCS\n",
        "prob_SCS = cvx.Problem(func_obj, restricciones)\n",
        "prob_SCS.solve(solver=cvx.SCS) # Soluciono el problema con SCS\n",
        "valorx_SCS = x.value # Valores optimos de x con SCS\n",
        "valory_SCS = y.value # Valores optimos de y con SCS\n",
        "\n",
        "# Se crea una lista con los encabezados de la tabla\n",
        "encabezado = [\"Solver\",\"Estado de la solución\", \"Valor óptimo de la función objetivo\",\n",
        "        \"Valor óptimo x\", \"Valor óptimo de y\"]\n",
        "\n",
        "# Lista con los resultados de la solución del solver y valores de las\n",
        "# Variables de decisión\n",
        "datos = [[\"OSQP\", prob_OSQP.status, prob_OSQP.value, valorx_OSQP, valory_OSQP ],\n",
        "        [\"SCS\", prob_SCS.status, prob_SCS.value, valorx_SCS, valory_SCS]]\n",
        "\n",
        "print(\"Los resultados de ambos solvers son: \\n\")\n",
        "# Se imprime la tabla con los resultados, dándole un formato de grid y\n",
        "# Y utilizando todos los números decimales\n",
        "print(tabulate(datos, headers=encabezado, tablefmt = \"grid\",\n",
        "               numalign=\"rigth\", floatfmt= \".14f\" ))\n",
        "\n",
        "print(\"\\nLas diferencias absolutas entre los solvers son: \")\n",
        "\n",
        "# Lista con las diferencias absolutas entre los resultados de las\n",
        "# Variables de decisión y función objetivo\n",
        "datos_dif = [\n",
        "     [\"Diferencia en el valor x\", abs(valorx_OSQP - valorx_SCS)],\n",
        "     [\"Diferencia en el valor y\", abs(valory_OSQP - valory_SCS)],\n",
        "    [\"Diferencia en la funcion objetivo\", abs(prob_OSQP.value - prob_SCS.value)]\n",
        "             ]\n",
        "\n",
        "# Se imprime la tabla con los resultados de las diferencias\n",
        "print(tabulate(datos_dif, tablefmt=\"grid\", floatfmt=\".14f\"))"
      ]
    },
    {
      "cell_type": "markdown",
      "metadata": {
        "id": "WWIeO92I6iIH"
      },
      "source": [
        "# 4. Enunciado problema\n",
        "Resolver el siguiente ejercicio en GoogleColab con la librería cvxpy utilizando al menos dos solvers diferentes y comparando las respuestas generadas por cada uno de ellos (el cálculo de las diferencias debe ser realizado de manera automática por el código).\n",
        "\n",
        "Minimizar 3*x + 8*y\n",
        "\n",
        "sujeto a:\n",
        "\n",
        "x + y >= 50\n",
        "\n",
        "x - y <= 20\n",
        "\n",
        "x >= 0\n",
        "\n",
        "y >= 0\n",
        "\n",
        "Debido a cómo trabaja Scipy se trabajarán con las siguientes restricciones\n",
        "\n",
        "-x -y <= -50\n",
        "\n",
        "x - y <= 20\n",
        "\n",
        "Y las de no negatividad"
      ]
    },
    {
      "cell_type": "markdown",
      "metadata": {
        "id": "aqOMnwq__TCe"
      },
      "source": [
        "## Consideraciones importantes de la libreria de Scipy\n",
        "La librería de Scipy no es tan permisiva ni tan fácil de escribir matemáticamente como cvxpy. Por tanto hay 3 cosas a tener en cuenta:\n",
        "\n",
        "\n",
        "\n",
        "*   Tenemos que trabajar con los coeficientes que acompañan tanto a la función objetivo como a las restricciones. La posición de la lista en la que esté el coeficiente representará la variable de decisión.\n",
        "*   Todas las desigualdades deben ser  $\\leq$ Si están de la forma $\\geq$ deben ser multiplicadas por $-1$.\n",
        "\n",
        "* El módulo que se va a usar sólo resuelve por minimización, es decir, para maximizar una función objetivo tendríamos que resolver el problema dual. Pero esto es tan sencillo como multiplicar la función objetivo por $-1$ y trabajar con esos coeficientes.\n",
        "\n",
        "Debido a que el ejercicio nos pide minimizar, lo ultimo no se realizará, con esto en cuenta podemos desarrollarlo utilizando el módulo de linprog de Scipy."
      ]
    },
    {
      "cell_type": "code",
      "execution_count": 5,
      "metadata": {
        "colab": {
          "base_uri": "https://localhost:8080/"
        },
        "id": "Jgwh8c1l6ri2",
        "outputId": "8e57219f-09ac-4790-d484-7bb15dd79ef0"
      },
      "outputs": [
        {
          "name": "stdout",
          "output_type": "stream",
          "text": [
            "Los resultados de ambos solvers son: \n",
            "\n",
            "+----------------+-------------------------+---------------------------------------+-------------------+---------------------+\n",
            "| Solver         |   Estado de la solución |   Valor óptimo de la función objetivo |    Valor óptimo x |   Valor óptimo de y |\n",
            "+================+=========================+=======================================+===================+=====================+\n",
            "| Interior point | 0                       | 224.99999484531867                    | 34.99999919998080 | 14.99999965567204   |\n",
            "+----------------+-------------------------+---------------------------------------+-------------------+---------------------+\n",
            "| SCS            | 0                       | 225.00000000000000                    | 35.00000000000000 | 15.00000000000000   |\n",
            "+----------------+-------------------------+---------------------------------------+-------------------+---------------------+\n",
            "\n",
            "Las diferencias absolutas entre los solvers son: \n",
            "+------------------------+------------------+\n",
            "| Diferencia en x        | 0.00000080001920 |\n",
            "+------------------------+------------------+\n",
            "| Diferencia en y        | 0.00000034432796 |\n",
            "+------------------------+------------------+\n",
            "| Diferencia en solución | 0.00000515468133 |\n",
            "+------------------------+------------------+\n"
          ]
        },
        {
          "name": "stderr",
          "output_type": "stream",
          "text": [
            "<ipython-input-5-09ed12490105>:28: DeprecationWarning: `method='interior-point'` is deprecated and will be removed in SciPy 1.11.0. Please use one of the HiGHS solvers (e.g. `method='highs'`) in new code.\n",
            "  problem_interior_point = linprog(c, A_ub = A_ub, b_ub = b_ub,\n"
          ]
        }
      ],
      "source": [
        "# Importamos los modulos a utilizar\n",
        "from scipy.optimize import linprog\n",
        "from tabulate import tabulate\n",
        "\n",
        "# Coeficientes de la función objetivo\n",
        "c = [3, 8]\n",
        "\n",
        "# Se crea una lista de lista que contendrá los coeficientes de\n",
        "# las restricciones del problema\n",
        "A_ub = [[-1, -1],\n",
        "        [1, -1]]\n",
        "\n",
        "# Se crea otra lista con los valores derechos de la desigualdad\n",
        "b_ub = [-50, 20]\n",
        "\n",
        "# Por defecto, Scipy utiliza las restricciones de no negatividad\n",
        "# Pero para dar más claridad se hará explicitas en este código\n",
        "# None sirve como infinito (también se puede usar np.inf si se desea)\n",
        "# Como par de valores, None a la izquierda es -inf, y None a la derecha es +inf\n",
        "bounds = [(0, None),\n",
        "          (0, None)]\n",
        "\n",
        "# Se definen los métodos por los cuales se resolverá\n",
        "method_interior_point = \"interior-point\"\n",
        "method_high    = \"highs\"\n",
        "\n",
        "# Resolvemos el problema con el método del punto interior\n",
        "problem_interior_point = linprog(c, A_ub = A_ub, b_ub = b_ub,\n",
        "                          bounds = bounds, method = method_interior_point)\n",
        "\n",
        "# Resolvemos el problema con el método highs\n",
        "# Por defecto scipy utiliza el método highs, pero para claridad en el código\n",
        "# Se hace expreso su uso\n",
        "problem_high = linprog(c, A_ub = A_ub, b_ub = b_ub,\n",
        "                          bounds = bounds, method = method_high)\n",
        "\n",
        "# Se crea una lista con los encabezados de la tabla\n",
        "encabezado = [\"Solver\",\"Estado de la solución\", \"Valor óptimo de la función objetivo\",\n",
        "        \"Valor óptimo x\", \"Valor óptimo de y\"]\n",
        "\n",
        "# Lista con los resultados de la solución del solver\n",
        "# Y valores de las variables de decisión\n",
        "datos = [[\"Interior point\", problem_interior_point.status,\n",
        "         problem_interior_point.fun,\n",
        "         problem_interior_point.x[0], problem_interior_point.x[1] ],\n",
        "        [\"SCS\", problem_high.status,\n",
        "         problem_high.fun,\n",
        "         problem_high.x[0], problem_high.x[1]]]\n",
        "\n",
        "print(\"Los resultados de ambos solvers son: \\n\")\n",
        "# Se imprime la tabla con los resultados, dándole un formato de grid y\n",
        "# Y utilizando todos los números decimales, Si el estado es 0 significa\n",
        "# Que la optimización ocurrió adecuadamente\n",
        "\n",
        "print(tabulate(datos, headers=encabezado, tablefmt = \"grid\",\n",
        "               numalign=\"rigth\", floatfmt= \".14f\" ))\n",
        "\n",
        "print(\"\\nLas diferencias absolutas entre los solvers son: \")\n",
        "\n",
        "# Lista con las diferencias absolutas entre los resultados de las\n",
        "# Variables de decisión y función objetivo\n",
        "datos_dif = [\n",
        "[\"Diferencia en x\", abs(problem_interior_point.x[0] - problem_high.x[0])],\n",
        "[\"Diferencia en y\", abs(problem_interior_point.x[1] - problem_high.x[1])],\n",
        "[\"Diferencia en solución\", abs(problem_interior_point.fun - problem_high.fun)]\n",
        "             ]\n",
        "# Se imprime la tabla con los resultados de las diferencias\n",
        "print(tabulate(datos_dif, tablefmt=\"grid\", floatfmt=\".14f\"))"
      ]
    }
  ],
  "metadata": {
    "colab": {
      "provenance": []
    },
    "kernelspec": {
      "display_name": "Python 3",
      "name": "python3"
    },
    "language_info": {
      "name": "python"
    }
  },
  "nbformat": 4,
  "nbformat_minor": 0
}
